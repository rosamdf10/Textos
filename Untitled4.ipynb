{
  "nbformat": 4,
  "nbformat_minor": 0,
  "metadata": {
    "colab": {
      "provenance": [],
      "authorship_tag": "ABX9TyMKQsqRmYvwarKSSC14T1l7",
      "include_colab_link": true
    },
    "kernelspec": {
      "name": "python3",
      "display_name": "Python 3"
    },
    "language_info": {
      "name": "python"
    }
  },
  "cells": [
    {
      "cell_type": "markdown",
      "metadata": {
        "id": "view-in-github",
        "colab_type": "text"
      },
      "source": [
        "<a href=\"https://colab.research.google.com/github/rosamdf10/Textos/blob/main/Untitled4.ipynb\" target=\"_parent\"><img src=\"https://colab.research.google.com/assets/colab-badge.svg\" alt=\"Open In Colab\"/></a>"
      ]
    },
    {
      "cell_type": "code",
      "execution_count": 11,
      "metadata": {
        "colab": {
          "base_uri": "https://localhost:8080/"
        },
        "id": "XkBpvM_04N2r",
        "outputId": "215af19d-b807-4d02-c0d4-78e5987a4564"
      },
      "outputs": [
        {
          "output_type": "stream",
          "name": "stdout",
          "text": [
            "Fin del programa\n"
          ]
        }
      ],
      "source": [
        "archi1=open(\"datos.txt\",\"w\")\n",
        "archi1.write(\"Primer línea.\\n\")\n",
        "archi1.write(\"Segunda línea.\\n\")\n",
        "archi1.write(\"Tercer línea.\\n\")\n",
        "archi1.close()\n",
        "print(\"Fin del programa\")"
      ]
    },
    {
      "cell_type": "code",
      "source": [
        "archi1=open(\"datos.txt\",\"r\")\n",
        "contenido=archi1.read()\n",
        "print(contenido)\n",
        "archi1.close()"
      ],
      "metadata": {
        "colab": {
          "base_uri": "https://localhost:8080/"
        },
        "id": "T5HpceXM7iYv",
        "outputId": "6deb2534-04ea-4905-887b-e3310d09c96b"
      },
      "execution_count": 12,
      "outputs": [
        {
          "output_type": "stream",
          "name": "stdout",
          "text": [
            "Primer línea.\n",
            "Segunda línea.\n",
            "Tercer línea.\n",
            "\n"
          ]
        }
      ]
    },
    {
      "cell_type": "code",
      "source": [
        "archi1=open(\"datos.txt\",\"r\")\n",
        "linea=archi1.readline()\n",
        "while linea!='':\n",
        "    print(linea, end='')\n",
        "    linea=archi1.readline()\n",
        "archi1.close()"
      ],
      "metadata": {
        "colab": {
          "base_uri": "https://localhost:8080/"
        },
        "id": "qZP81_LP7dJi",
        "outputId": "82eff009-186d-4014-f989-dd50d83d3af4"
      },
      "execution_count": 5,
      "outputs": [
        {
          "output_type": "stream",
          "name": "stdout",
          "text": [
            "Primer línea.\n",
            "Segunda línea.\n",
            "Tercer línea.\n"
          ]
        }
      ]
    },
    {
      "cell_type": "code",
      "source": [
        "archi1=open(\"datos.txt\",\"r\")\n",
        "for linea in archi1:\n",
        "    print(linea, end='')\n",
        "archi1.close()"
      ],
      "metadata": {
        "colab": {
          "base_uri": "https://localhost:8080/"
        },
        "id": "16wIGbHV7qhl",
        "outputId": "acb9f621-95d3-41d9-c67c-0c8e5b05156e"
      },
      "execution_count": 7,
      "outputs": [
        {
          "output_type": "stream",
          "name": "stdout",
          "text": [
            "Primer línea.\n",
            "Segunda línea.\n",
            "Tercer línea.\n"
          ]
        }
      ]
    },
    {
      "cell_type": "code",
      "source": [
        "archi1=open(\"datos.txt\",\"r\")\n",
        "lineas=archi1.readlines()\n",
        "print('El archivo tiene', len(lineas), 'líneas')\n",
        "print('El contenido del archivo')\n",
        "for linea in lineas:\n",
        "    print(linea, end='')\n",
        "archi1.close()"
      ],
      "metadata": {
        "colab": {
          "base_uri": "https://localhost:8080/"
        },
        "id": "0Upg0qBe7yH_",
        "outputId": "151bedef-f41a-4d1c-e950-572b7e59737d"
      },
      "execution_count": 8,
      "outputs": [
        {
          "output_type": "stream",
          "name": "stdout",
          "text": [
            "El archivo tiene 3 líneas\n",
            "El contenido del archivo\n",
            "Primer línea.\n",
            "Segunda línea.\n",
            "Tercer línea.\n"
          ]
        }
      ]
    },
    {
      "cell_type": "code",
      "source": [
        "archi1=open(\"datos.txt\",\"a\")\n",
        "archi1.write(\"nueva línea 1\\n\")\n",
        "archi1.write(\"nueva línea 2\\n\")\n",
        "archi1.close()\n",
        "archi1=open(\"datos.txt\",\"r\")\n",
        "contenido=archi1.read()\n",
        "print(contenido)\n",
        "archi1.close()"
      ],
      "metadata": {
        "colab": {
          "base_uri": "https://localhost:8080/"
        },
        "id": "RCoFgo6r73Rk",
        "outputId": "cca64979-472c-4e02-dd40-dc63f06683e7"
      },
      "execution_count": 9,
      "outputs": [
        {
          "output_type": "stream",
          "name": "stdout",
          "text": [
            "Primer línea.\n",
            "Segunda línea.\n",
            "Tercer línea.\n",
            "nueva línea 1\n",
            "nueva línea 2\n",
            "\n"
          ]
        }
      ]
    },
    {
      "cell_type": "code",
      "source": [
        "archi1=open(\"datos.txt\",\"r+\")\n",
        "contenido=archi1.read()\n",
        "print(contenido)\n",
        "archi1.write(\"Otra línea 1\\n\")\n",
        "archi1.write(\"Otra línea 2\\n\")\n",
        "archi1.close()"
      ],
      "metadata": {
        "colab": {
          "base_uri": "https://localhost:8080/"
        },
        "id": "088Osv4Z7-k9",
        "outputId": "3c55addb-fd03-4eec-d8f6-1878e6fd7691"
      },
      "execution_count": 10,
      "outputs": [
        {
          "output_type": "stream",
          "name": "stdout",
          "text": [
            "Primer línea.\n",
            "Segunda línea.\n",
            "Tercer línea.\n",
            "nueva línea 1\n",
            "nueva línea 2\n",
            "\n"
          ]
        }
      ]
    },
    {
      "cell_type": "code",
      "source": [
        "archi1=open(\"datos.txt\",\"w\", encoding=\"utf-8\")\n",
        "archi1.write(\"Primer línea.\\n\")\n",
        "archi1.write(\"Segunda línea.\\n\")\n",
        "archi1.write(\"Tercer línea.\\n\")\n",
        "archi1.close()"
      ],
      "metadata": {
        "id": "hkw5WfIY8Czi"
      },
      "execution_count": 15,
      "outputs": []
    }
  ]
}